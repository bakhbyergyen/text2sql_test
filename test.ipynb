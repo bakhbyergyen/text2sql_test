{
 "cells": [
  {
   "cell_type": "code",
   "execution_count": 2,
   "metadata": {},
   "outputs": [],
   "source": [
    "from engine import Engine\n",
    "engine = Engine(\n",
    "    db_user=\"postgres.winxhexdlkffhwxbxwve\",\n",
    "    db_password=\"\",\n",
    "    db_host=\"aws-0-us-east-2.pooler.supabase.com\",\n",
    "    db_port=\"5432\",\n",
    "    db_name=\"postgres\",\n",
    "    table_names=[\"test_table\"],\n",
    "    llm_model=\"gpt-4o-mini\",\n",
    "    llm_temperature=0.1\n",
    ")\n"
   ]
  },
  {
   "cell_type": "code",
   "execution_count": 3,
   "metadata": {},
   "outputs": [
    {
     "data": {
      "text/plain": [
       "[NodeWithScore(node=TextNode(id_='50581d06-47f1-4d35-95dd-0fc813a6ea3e', embedding=None, metadata={'sql_query': \"SELECT COUNT(*) FROM test_table WHERE 発生部署 = 'KIC';\", 'result': [(3,)], 'col_keys': ['count']}, excluded_embed_metadata_keys=['sql_query', 'result', 'col_keys'], excluded_llm_metadata_keys=['sql_query', 'result', 'col_keys'], relationships={}, metadata_template='{key}: {value}', metadata_separator='\\n', text='[(3,)]', mimetype='text/plain', start_char_idx=None, end_char_idx=None, metadata_seperator='\\n', text_template='{metadata_str}\\n\\n{content}'), score=None)]"
      ]
     },
     "execution_count": 3,
     "metadata": {},
     "output_type": "execute_result"
    }
   ],
   "source": [
    "results = engine.retrieve(\"KICで発生したトラブルの件数を教えてください。\")\n",
    "results"
   ]
  },
  {
   "cell_type": "code",
   "execution_count": 5,
   "metadata": {},
   "outputs": [
    {
     "data": {
      "text/plain": [
       "Response(response='KICで発生したトラブルの件数は3件です。', source_nodes=[NodeWithScore(node=TextNode(id_='47a92f62-029e-4980-b76a-03b1b44ac50a', embedding=None, metadata={'sql_query': \"SELECT COUNT(*) FROM test_table WHERE 発生部署 = 'KIC';\", 'result': [(3,)], 'col_keys': ['count']}, excluded_embed_metadata_keys=['sql_query', 'result', 'col_keys'], excluded_llm_metadata_keys=['sql_query', 'result', 'col_keys'], relationships={}, metadata_template='{key}: {value}', metadata_separator='\\n', text='[(3,)]', mimetype='text/plain', start_char_idx=None, end_char_idx=None, metadata_seperator='\\n', text_template='{metadata_str}\\n\\n{content}'), score=None)], metadata={'47a92f62-029e-4980-b76a-03b1b44ac50a': {'sql_query': \"SELECT COUNT(*) FROM test_table WHERE 発生部署 = 'KIC';\", 'result': [(3,)], 'col_keys': ['count']}})"
      ]
     },
     "execution_count": 5,
     "metadata": {},
     "output_type": "execute_result"
    }
   ],
   "source": [
    "response = engine.query_basic(\"KICで発生したトラブルの件数を教えてください。\")\n",
    "response"
   ]
  },
  {
   "cell_type": "code",
   "execution_count": 6,
   "metadata": {},
   "outputs": [
    {
     "data": {
      "text/plain": [
       "Response(response='KICで発生したトラブルの件数は3件です。', source_nodes=[NodeWithScore(node=TextNode(id_='aa5aff7f-e6e5-48db-89f5-9db37424e042', embedding=None, metadata={'sql_query': \"SELECT COUNT(*) AS total_troubles\\nFROM test_table\\nWHERE 発生部署 = 'KIC';\", 'result': [(3,)], 'col_keys': ['total_troubles']}, excluded_embed_metadata_keys=['sql_query', 'result', 'col_keys'], excluded_llm_metadata_keys=['sql_query', 'result', 'col_keys'], relationships={}, metadata_template='{key}: {value}', metadata_separator='\\n', text='[(3,)]', mimetype='text/plain', start_char_idx=None, end_char_idx=None, metadata_seperator='\\n', text_template='{metadata_str}\\n\\n{content}'), score=None)], metadata={'aa5aff7f-e6e5-48db-89f5-9db37424e042': {'sql_query': \"SELECT COUNT(*) AS total_troubles\\nFROM test_table\\nWHERE 発生部署 = 'KIC';\", 'result': [(3,)], 'col_keys': ['total_troubles']}, 'sql_query': \"SELECT COUNT(*) AS total_troubles\\nFROM test_table\\nWHERE 発生部署 = 'KIC';\", 'result': [(3,)], 'col_keys': ['total_troubles']})"
      ]
     },
     "execution_count": 6,
     "metadata": {},
     "output_type": "execute_result"
    }
   ],
   "source": [
    "advanced_response = engine.query_advanced(\"KICで発生したトラブルの件数を教えてください。\")\n",
    "advanced_response"
   ]
  },
  {
   "cell_type": "code",
   "execution_count": null,
   "metadata": {},
   "outputs": [],
   "source": []
  }
 ],
 "metadata": {
  "kernelspec": {
   "display_name": "sql-engine-env",
   "language": "python",
   "name": "python3"
  },
  "language_info": {
   "codemirror_mode": {
    "name": "ipython",
    "version": 3
   },
   "file_extension": ".py",
   "mimetype": "text/x-python",
   "name": "python",
   "nbconvert_exporter": "python",
   "pygments_lexer": "ipython3",
   "version": "3.12.2"
  }
 },
 "nbformat": 4,
 "nbformat_minor": 2
}
